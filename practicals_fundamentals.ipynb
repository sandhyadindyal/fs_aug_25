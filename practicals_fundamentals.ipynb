{
 "cells": [
  {
   "cell_type": "code",
   "execution_count": 1,
   "id": "80984444",
   "metadata": {},
   "outputs": [
    {
     "name": "stdout",
     "output_type": "stream",
     "text": [
      "a = 10 is an integer.\n",
      "b = 3.14 is an float.\n",
      "c = Hello, World! is a string.\n",
      "d = True is a boolean.\n"
     ]
    }
   ],
   "source": [
    "# Exercise 1: Identify Data Types\n",
    "\n",
    "a = 10\n",
    "b = 3.14\n",
    "c = \"Hello, World!\"\n",
    "d = True\n",
    "\n",
    "print(f\"a = {a} is an integer.\")\n",
    "\n",
    "print(f\"b = {b} is an float.\")\n",
    "\n",
    "print(f\"c = {c} is a string.\")\n",
    "\n",
    "print(f\"d = {d} is a boolean.\")"
   ]
  },
  {
   "cell_type": "code",
   "execution_count": 2,
   "id": "c3993f87",
   "metadata": {},
   "outputs": [
    {
     "name": "stdout",
     "output_type": "stream",
     "text": [
      "5.0\n",
      "3\n",
      "123\n"
     ]
    }
   ],
   "source": [
    "# Ex 2: Data type conversion\n",
    "\n",
    "num = 5\n",
    "print(float(num))\n",
    "\n",
    "num1 = 3.9\n",
    "print(int(num1))\n",
    "\n",
    "st = \"123\"\n",
    "print(int(st))\n"
   ]
  },
  {
   "cell_type": "code",
   "execution_count": null,
   "id": "b8d6bcef",
   "metadata": {},
   "outputs": [],
   "source": [
    "# Ex 3: Arithmetic operations\n",
    "\n",
    "num1 = 15\n",
    "num2 = 30\n",
    "\n",
    "add = num1+num2\n",
    "print(\"sum = \", add)\n",
    "\n",
    "sub = num2 - num1\n",
    "print(\"Substration = \", sub)\n",
    "\n",
    "multiply = num1 * num2\n",
    "print(\"Multiplication = \", multiply)\n",
    "\n",
    "div = num2/num1\n",
    "print(\"Division = \", div)\n"
   ]
  },
  {
   "cell_type": "code",
   "execution_count": null,
   "id": "631cd057",
   "metadata": {},
   "outputs": [],
   "source": [
    "# Ex 4: String concatenation\n",
    "\n",
    "st1 = \"Hello\"\n",
    "st2 = \"World\"\n",
    "\n",
    "st = st1 + \" \" + st2\n",
    "\n",
    "print(st)\n"
   ]
  },
  {
   "cell_type": "code",
   "execution_count": null,
   "id": "e82b4529",
   "metadata": {},
   "outputs": [],
   "source": [
    "# Ex 5: String indexing\n",
    "\n",
    "my_string = \"Python\"\n",
    "\n",
    "print(my_string[0])  # Output: P\n",
    "\n",
    "print(my_string[5])  # Output: y\n",
    "\n",
    "print(my_string[2:6])  # Output: thon"
   ]
  },
  {
   "cell_type": "code",
   "execution_count": null,
   "id": "64325f0a",
   "metadata": {},
   "outputs": [],
   "source": [
    "#Ex 6: String slicing\n",
    "\n",
    "my_string = \"Python\"\n",
    "\n",
    "print(my_string[0])  # Output: P\n",
    "\n",
    "print(my_string[5])  # Output: y\n",
    "\n",
    "print(my_string[2:6])  # Output: thon\n",
    "\n",
    "print(my_string[::-1])  # Output: thon"
   ]
  },
  {
   "cell_type": "code",
   "execution_count": null,
   "id": "430bdb3b",
   "metadata": {},
   "outputs": [],
   "source": [
    "#Ex 7: Basic Input\n",
    "\n",
    "name = input(\"What is your name?\")\n",
    "\n",
    "\n",
    "print(\"Hello,\", name,\"!\")\n"
   ]
  },
  {
   "cell_type": "code",
   "execution_count": null,
   "id": "d86cf3e8",
   "metadata": {},
   "outputs": [],
   "source": [
    "#Ex 8: Input conversion\n",
    "\n",
    "num1_1 = input(\"Enter the first number: \")\n",
    "\n",
    "num2_2 = input(\"Enter the second number: \")\n",
    "\n",
    "num1 = int(num1_1)\n",
    "num2 = int(num2_2)\n",
    "\n",
    "add = num1+num2\n",
    "print(\"Sum of\",num1,\"and\", num2, \"is:\", add)\n",
    "\n",
    "print(f\"The sum of {num1} and {num2} is: {add}\")"
   ]
  },
  {
   "cell_type": "code",
   "execution_count": null,
   "id": "476500fd",
   "metadata": {},
   "outputs": [],
   "source": [
    "# Ex 9: Multiple inputs\n",
    "\n",
    "first = input(\"Enter your first name:\")\n",
    "\n",
    "last = input(\"Enter your last name:\")\n",
    "\n",
    "age = input(\"Enter your age:\")\n",
    "\n",
    "print(f'Your name is {first} {last} and you are {age} years old.')"
   ]
  },
  {
   "cell_type": "code",
   "execution_count": null,
   "id": "119dc57c",
   "metadata": {},
   "outputs": [],
   "source": [
    "#Ex 10: List introduction\n",
    "\n",
    "list = [1,2,3,4,5]\n",
    "\n",
    "print(list)\n",
    "\n",
    "first_element = list[0]\n",
    "\n",
    "print(list[0]) #access and print first element\n",
    "\n",
    "print(f\"The first_element is {first_element}\")\n",
    "\n",
    "print(list[4]) #access and print last element\n",
    "\n",
    "\n",
    "print(f\"The last_element is {list[4]}\")\n"
   ]
  },
  {
   "cell_type": "code",
   "execution_count": null,
   "id": "86916d0e",
   "metadata": {},
   "outputs": [],
   "source": [
    "# Ex 11: Create a dictionary with initial key-value pairs\n",
    "my_dict = {\"name\": \"Alice\", \"age\": 25, \"city\": \"London\"}\n",
    "\n",
    "# Create a dictionary\n",
    "person_info = {\n",
    "    'name': 'Alice',\n",
    "    'age': 30,\n",
    "    'city': 'London'\n",
    "}\n",
    "\n",
    "# Access and print the value associated with the key 'city'\n",
    "city_value = person_info['city']\n",
    "print(city_value)\n"
   ]
  },
  {
   "cell_type": "code",
   "execution_count": null,
   "id": "86c55cdf",
   "metadata": {},
   "outputs": [],
   "source": [
    "#Ex 12: Tupple\n",
    "\n",
    "my_tuple = (10, 20, 30, 40, 50)\n",
    "\n",
    "print(my_tuple)\n",
    "\n",
    "print(my_tuple[1])\n",
    "\n",
    "print(my_tuple[-2])"
   ]
  },
  {
   "cell_type": "code",
   "execution_count": null,
   "id": "f05cca11",
   "metadata": {},
   "outputs": [],
   "source": [
    "# Ex 13: Collecting user information\n",
    "\n",
    "name = input(\"Enter your name:\")\n",
    "\n",
    "age = input(\"Enter your age:\")\n",
    "\n",
    "colour = input(\"Enter your favourite colour:\")\n",
    "\n",
    "my_dict = {\n",
    "    'name': name, \n",
    "    \"age\": age, \n",
    "    \"favourite colour\": colour\n",
    "    }\n",
    "\n",
    "print(my_dict)"
   ]
  },
  {
   "cell_type": "code",
   "execution_count": null,
   "id": "b0b95d1c",
   "metadata": {},
   "outputs": [],
   "source": [
    "# Ex 14: Simple Data Analysis\n",
    "\n",
    "age = (23,45,16,27,30,18)\n",
    "\n",
    "total = sum(age)\n",
    "average_age = total/len(age)\n",
    "\n",
    "youngest_age = min(age)\n",
    "\n",
    "oldest_age = max(age)\n",
    "\n",
    "print (\"The average age is:\", int(average_age))\n",
    "print (\"The youngest age is:\", youngest_age)\n",
    "print (\"The oldest age is:\", oldest_age)"
   ]
  },
  {
   "cell_type": "code",
   "execution_count": null,
   "id": "c0576de1",
   "metadata": {},
   "outputs": [],
   "source": [
    "# Ex 15: Boolean logic\n",
    "\n",
    "num = input(\"Enter a number: \")\n",
    "\n",
    "if num == 0:\n",
    "    print(\"Number is equal to zero\")\n",
    "\n",
    "elif int(num) < 0:\n",
    "    print(\"Number is less than zero\")\n",
    "\n",
    "else:\n",
    "    print(\"Number is greater than zero\")"
   ]
  },
  {
   "cell_type": "code",
   "execution_count": null,
   "id": "119d38f9",
   "metadata": {},
   "outputs": [],
   "source": [
    "# Ex 16: Data Type Conversion\n",
    "\n",
    "dob = input(\"Enter the year you were born: \")\n",
    "\n",
    "present_year = input (\"Enter the present year: \")\n",
    "\n",
    "age = int(present_year) - int(dob)\n",
    "\n",
    "print(\"You are\",age, \"years old.\")\n",
    "\n",
    "print(f\"You are {age} years old.\")"
   ]
  },
  {
   "cell_type": "code",
   "execution_count": null,
   "id": "3213e35d",
   "metadata": {},
   "outputs": [],
   "source": [
    "# Ex 17: Complex String Formatting\n",
    "\n",
    "name = input(\"Enter your name: \")\n",
    "number = int(input(\"Enter your favourite number: \"))\n",
    "\n",
    "formatted_number = f\"{number:02}\"\n",
    "\n",
    "print(f\"Hello {name}, your favourite number is {formatted_number}\")"
   ]
  },
  {
   "cell_type": "code",
   "execution_count": null,
   "id": "94739487",
   "metadata": {},
   "outputs": [],
   "source": [
    "# Ex 18: Calculating with List\n",
    "\n",
    "numbers = []  # Initialize an empty list to store the numbers\n",
    "\n",
    "for i in range(5):\n",
    "    num = int(input(f\"Enter number {i+1}: \"))\n",
    "    i += 1\n",
    "    numbers.append(num)\n",
    "\n",
    "# Calculate the sum of the numbers\n",
    "total_sum = sum(numbers)\n",
    "\n",
    " # Calculate the average of the numbers\n",
    "\n",
    "average = total_sum / len(numbers)\n",
    "\n",
    "    # Print the sum and average\n",
    "print(f\"Sum of the 5 numbers: {total_sum}\")\n",
    "print(f\"Average of the 5 numbers: {average}\")\n"
   ]
  },
  {
   "cell_type": "code",
   "execution_count": null,
   "id": "70428686",
   "metadata": {},
   "outputs": [],
   "source": [
    "# Ex 19: Dictionary Data Entry\n",
    "\n",
    "\n",
    "d = {input(\"Enter the product name: \"): input(\"Enter the product price:Rs \") for _ in range(3)}\n",
    "\n",
    "print(d)\n",
    "\n"
   ]
  },
  {
   "cell_type": "code",
   "execution_count": null,
   "id": "02508f80",
   "metadata": {},
   "outputs": [],
   "source": [
    "# Ex 20: Basic Student Information System\n",
    "\n",
    "student_num = int(input(\"How many student do you have?: \"))\n",
    "\n",
    "for i in range (student_num):\n",
    "    dict = {\n",
    "        input('Enter the student name: '): \n",
    "        input('Enter the student age: ' , \"Enter the Grade of the student: \")\n",
    "       }\n",
    "\n"
   ]
  },
  {
   "cell_type": "code",
   "execution_count": 1,
   "id": "b7202b5d",
   "metadata": {},
   "outputs": [
    {
     "name": "stdout",
     "output_type": "stream",
     "text": [
      "\n",
      "Enter details for Student 1:\n",
      "\n",
      "Enter details for Student 2:\n",
      "\n",
      "Enter details for Student 3:\n",
      "\n",
      "--- Student Information ---\n",
      "Name: sandhya\n",
      "Age: 20\n",
      "Grades: 90.0, 95.0, 96.0\n",
      "-------------------------\n",
      "Name: ronav\n",
      "Age: 19\n",
      "Grades: 96.0, 95.0, 98.0\n",
      "-------------------------\n",
      "Name: Ruchika\n",
      "Age: 18\n",
      "Grades: 96.0, 98.0, 99.0\n",
      "-------------------------\n"
     ]
    }
   ],
   "source": [
    "# Ex 20.\n",
    "\n",
    "def collect_student_data(num_students):\n",
    "    \"\"\"\n",
    "    Collects name, age, and grades for a specified number of students.\n",
    "\n",
    "    Args:\n",
    "        num_students (int): The number of students to collect data for.\n",
    "\n",
    "    Returns:\n",
    "        list: A list of dictionaries, where each dictionary represents a student.\n",
    "    \"\"\"\n",
    "    students_data = []\n",
    "    for i in range(num_students):\n",
    "        print(f\"\\nEnter details for Student {i + 1}:\")\n",
    "        name = input(\"Enter student's name: \")\n",
    "        age = int(input(\"Enter student's age: \"))\n",
    "        grades = []\n",
    "        for j in range(3):\n",
    "            while True:\n",
    "                try:\n",
    "                    grade = float(input(f\"Enter grade {j + 1}: \"))\n",
    "                    grades.append(grade)\n",
    "                    break\n",
    "                except ValueError:\n",
    "                    print(\"Invalid input. Please enter a numerical grade.\")\n",
    "\n",
    "        student_info = {\n",
    "            \"name\": name,\n",
    "            \"age\": age,\n",
    "            \"grades\": grades\n",
    "        }\n",
    "        students_data.append(student_info)\n",
    "    return students_data\n",
    "\n",
    "def print_student_data(students_data):\n",
    "    \"\"\"\n",
    "    Prints the collected student information in a formatted manner.\n",
    "\n",
    "    Args:\n",
    "        students_data (list): A list of dictionaries containing student details.\n",
    "    \"\"\"\n",
    "    print(\"\\n--- Student Information ---\")\n",
    "    for student in students_data:\n",
    "        print(f\"Name: {student['name']}\")\n",
    "        print(f\"Age: {student['age']}\")\n",
    "        print(f\"Grades: {', '.join(map(str, student['grades']))}\")\n",
    "        print(\"-\" * 25)\n",
    "\n",
    "if __name__ == \"__main__\":\n",
    "    num_students = 3\n",
    "    student_records = collect_student_data(num_students)\n",
    "    print_student_data(student_records)\n",
    "\n"
   ]
  }
 ],
 "metadata": {
  "kernelspec": {
   "display_name": "Python 3",
   "language": "python",
   "name": "python3"
  },
  "language_info": {
   "codemirror_mode": {
    "name": "ipython",
    "version": 3
   },
   "file_extension": ".py",
   "mimetype": "text/x-python",
   "name": "python",
   "nbconvert_exporter": "python",
   "pygments_lexer": "ipython3",
   "version": "3.13.5"
  }
 },
 "nbformat": 4,
 "nbformat_minor": 5
}

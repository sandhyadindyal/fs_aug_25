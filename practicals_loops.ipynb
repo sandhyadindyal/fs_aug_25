{
 "cells": [
  {
   "cell_type": "code",
   "execution_count": 1,
   "id": "0c6193a2",
   "metadata": {},
   "outputs": [
    {
     "name": "stdout",
     "output_type": "stream",
     "text": [
      "1\n",
      "2\n",
      "3\n",
      "4\n",
      "5\n",
      "6\n",
      "7\n",
      "8\n",
      "9\n",
      "10\n"
     ]
    }
   ],
   "source": [
    "# ### **1. Introduction to Loops**\n",
    "\n",
    "### **Exercise 1: Print Numbers**\n",
    "\n",
    "for i in range (10):\n",
    "    print(i+1)\n",
    "    "
   ]
  },
  {
   "cell_type": "code",
   "execution_count": 22,
   "id": "23126f9a",
   "metadata": {},
   "outputs": [
    {
     "name": "stdout",
     "output_type": "stream",
     "text": [
      "Sum of first 100 natural numbers = 5050\n"
     ]
    }
   ],
   "source": [
    "# Exercise 2: Sum of First N Numbers\n",
    "\n",
    "\n",
    "total = 0\n",
    "for number in range(1, 101):\n",
    "    total += number\n",
    "\n",
    "print (f\"Sum of first 100 natural numbers =\", total)\n",
    "  \n"
   ]
  },
  {
   "cell_type": "code",
   "execution_count": 25,
   "id": "7467ac19",
   "metadata": {},
   "outputs": [
    {
     "name": "stdout",
     "output_type": "stream",
     "text": [
      "2\n",
      "4\n",
      "6\n",
      "8\n",
      "10\n",
      "12\n",
      "14\n",
      "16\n",
      "18\n",
      "20\n",
      "22\n",
      "24\n",
      "26\n",
      "28\n",
      "30\n",
      "32\n",
      "34\n",
      "36\n",
      "38\n",
      "40\n",
      "42\n",
      "44\n",
      "46\n",
      "48\n",
      "50\n"
     ]
    }
   ],
   "source": [
    "# Exercise 3: Print Even Numbers\n",
    "\n",
    "for i in range (1,51):\n",
    "    if i %2 == 0:\n",
    "        print (i)\n",
    "\n"
   ]
  },
  {
   "cell_type": "code",
   "execution_count": 31,
   "id": "4edb7e85",
   "metadata": {},
   "outputs": [
    {
     "name": "stdout",
     "output_type": "stream",
     "text": [
      "Sum of the numbers = 35\n"
     ]
    }
   ],
   "source": [
    "# Exercise 4: Sum of List Elements\n",
    "\n",
    "\n",
    "numbers = [3, 5, 7, 9,11]\n",
    "total = 0\n",
    "\n",
    "for number in numbers:\n",
    "    total += number\n",
    "\n",
    "print (f\"Sum of the numbers =\", total)\n",
    "  \n"
   ]
  },
  {
   "cell_type": "code",
   "execution_count": 33,
   "id": "6aeafb2c",
   "metadata": {},
   "outputs": [
    {
     "name": "stdout",
     "output_type": "stream",
     "text": [
      "The maximun value is: 89\n"
     ]
    }
   ],
   "source": [
    "# Exercise 5: Find Maximum in a List\n",
    "\n",
    "numbers = [34, 12, 67, 45, 89, 23]\n",
    "\n",
    "max_value = numbers[0]\n",
    "\n",
    "for number in numbers:\n",
    "    if number > max_value:\n",
    "        max_value = number\n",
    "\n",
    "print(f\"The maximun value is: {max_value}\")"
   ]
  },
  {
   "cell_type": "code",
   "execution_count": 34,
   "id": "51d1c2b1",
   "metadata": {},
   "outputs": [
    {
     "name": "stdout",
     "output_type": "stream",
     "text": [
      "The occurences of the element 'apple' is: 3 \n"
     ]
    }
   ],
   "source": [
    "# Exercise 6: Count Occurrences of an Element\n",
    "\n",
    "fruits = ['apple', 'banana', 'cherry', 'apple', 'cherry', 'apple']\n",
    "\n",
    "count_apple = 0\n",
    "\n",
    "for item in fruits:\n",
    "    if item == 'apple':\n",
    "        count_apple += 1\n",
    "\n",
    "print(f\"The occurences of the element 'apple' is: {count_apple} \")"
   ]
  },
  {
   "cell_type": "code",
   "execution_count": 41,
   "id": "8e3243d3",
   "metadata": {},
   "outputs": [
    {
     "name": "stdout",
     "output_type": "stream",
     "text": [
      "nohtyP\n"
     ]
    }
   ],
   "source": [
    "# Exercise 7: Reverse a String\n",
    "\n",
    "original_string = \"Python\"\n",
    "reversed_string = \"\"\n",
    "\n",
    "# Iterate through the original string from the last character to the first\n",
    "for i in range(len(original_string) - 1, -1, -1):\n",
    "    reversed_string += original_string[i]\n",
    "\n",
    "print(reversed_string)"
   ]
  },
  {
   "cell_type": "code",
   "execution_count": 56,
   "id": "0344ccf0",
   "metadata": {},
   "outputs": [
    {
     "name": "stdout",
     "output_type": "stream",
     "text": [
      "The total number of vowels are: 3\n"
     ]
    }
   ],
   "source": [
    "# Exercise 8: Count Vowels\n",
    "\n",
    "\n",
    "\n",
    "c=\"Hello World\"\n",
    "\n",
    "count=0\n",
    "\n",
    "for i in c:\n",
    "\n",
    "    if(i==\"a\" \n",
    "       or i=='e' \n",
    "       or i=='i' \n",
    "       or i=='o' \n",
    "       or i==\"u\"):\n",
    "\n",
    "        count = count+1\n",
    "\n",
    "print(\"The total number of vowels are:\",count)"
   ]
  },
  {
   "cell_type": "code",
   "execution_count": null,
   "id": "d937bb80",
   "metadata": {},
   "outputs": [],
   "source": [
    "# Exercise 9: Multiplication Table\n",
    "\n",
    "for i in range(1, 6):  # Outer loop for numbers 1 to 5\n",
    "    print(f\"Multiplication Table for {i}:\")\n",
    "    for j in range(1, 13): # Inner loop for multipliers 1 to 12\n",
    "        product = i * j\n",
    "        print(f\"{i} x {j} = {product}\")\n",
    "    print() # Prints a blank line after each table for better readability"
   ]
  },
  {
   "cell_type": "code",
   "execution_count": 69,
   "id": "fd30c504",
   "metadata": {},
   "outputs": [
    {
     "name": "stdout",
     "output_type": "stream",
     "text": [
      "*\n",
      "**\n",
      "***\n",
      "****\n",
      "*****\n",
      "******\n",
      "*******\n",
      "********\n",
      "*********\n",
      "**********\n"
     ]
    }
   ],
   "source": [
    "# Exercise 10: Pattern Printing\n",
    "\n",
    "\n",
    "def half_pyramid(n):\n",
    "    for i in range(1, n + 1):\n",
    "        for j in range(1, i + 1):\n",
    "            print(\"*\", end=\"\")\n",
    "        print(\"\")\n",
    "\n",
    "n = int(input(\"Enter the number of rows: \"))\n",
    "half_pyramid(n)"
   ]
  },
  {
   "cell_type": "code",
   "execution_count": 4,
   "id": "0e7aa6a1",
   "metadata": {},
   "outputs": [
    {
     "name": "stdout",
     "output_type": "stream",
     "text": [
      "419\n",
      "The average grade is: 83.8\n"
     ]
    }
   ],
   "source": [
    "# Exercise 11: Calculate Average Grade\n",
    "\n",
    "student_grade = [85, 78, 92, 88, 76]\n",
    "\n",
    "total = 0\n",
    "\n",
    "for number in student_grade:\n",
    "    total += number\n",
    "\n",
    "print (total)\n",
    "\n",
    "average = total / len(student_grade)\n",
    "\n",
    "print(f\"The average grade is: {average}\")"
   ]
  },
  {
   "cell_type": "code",
   "execution_count": 8,
   "id": "af9acc07",
   "metadata": {},
   "outputs": [
    {
     "name": "stdout",
     "output_type": "stream",
     "text": [
      "419\n",
      "The average grade is: 83.8\n",
      "Comparing values to the average (83.8):\n",
      "85 is greater than the average.\n",
      "78 is less than the average.\n",
      "92 is greater than the average.\n",
      "88 is greater than the average.\n",
      "76 is less than the average.\n"
     ]
    }
   ],
   "source": [
    "# Exercise 12: Find Students Above Average\n",
    "\n",
    "student_grade = [85, 78, 92, 88, 76]\n",
    "\n",
    "total = 0\n",
    "\n",
    "for number in student_grade:\n",
    "    total += number\n",
    "\n",
    "print (total)\n",
    "\n",
    "average = total / len(student_grade)\n",
    "\n",
    "print(f\"The average grade is: {average}\")\n",
    "\n",
    "    \n",
    "print(f\"Comparing values to the average ({average}):\")\n",
    "\n",
    "for value in student_grade:\n",
    "        if value > average:\n",
    "            print(f\"{value} is greater than the average.\")\n",
    "        elif value < average:\n",
    "            print(f\"{value} is less than the average.\")\n",
    "        else:\n",
    "            print(f\"{value} is equal to the average.\")"
   ]
  },
  {
   "cell_type": "code",
   "execution_count": 22,
   "id": "7f117141",
   "metadata": {},
   "outputs": [
    {
     "name": "stdout",
     "output_type": "stream",
     "text": [
      "Good\n"
     ]
    }
   ],
   "source": [
    "# Exercise 13: Classify Grades\n",
    "\n",
    "grade = int(input(\"Enter the grade of the student: \"))\n",
    "\n",
    "if grade > 89:\n",
    "    print(\"Excellent\")\n",
    "elif grade > 79:\n",
    "    print (\"Good\")\n",
    "elif grade > 69:\n",
    "    print(\"Average\")\n",
    "else:\n",
    "    print(\"Poor\")\n",
    "\n"
   ]
  },
  {
   "cell_type": "code",
   "execution_count": 12,
   "id": "0f2730cf",
   "metadata": {},
   "outputs": [
    {
     "name": "stdout",
     "output_type": "stream",
     "text": [
      "Comparison Results:\n",
      "100 > 90\n",
      "102 < 150\n",
      "101 > 100\n",
      "105 < 110\n",
      "110 > 105\n",
      "107 < 108\n",
      "111 == 111\n"
     ]
    }
   ],
   "source": [
    "# Exercise 14: Stock Market Simulation\n",
    "\n",
    "\n",
    "def compare_lists_element_wise(list1, list2):\n",
    "   \n",
    "    results = []\n",
    "    for val1, val2 in zip(list1, list2):\n",
    "        if val1 > val2:\n",
    "            results.append(f\"{val1} > {val2}\")\n",
    "        elif val1 < val2:\n",
    "            results.append(f\"{val1} < {val2}\")\n",
    "        else:\n",
    "            results.append(f\"{val1} == {val2}\")\n",
    "    return results\n",
    "\n",
    "\n",
    "daily_stock = [100, 102, 101, 105, 110, 107, 111]\n",
    "new_stock = [90,150,100,110,105,108,111]\n",
    "\n",
    "comparison_results = compare_lists_element_wise(daily_stock, new_stock)\n",
    "print(\"Comparison Results:\")\n",
    "for result in comparison_results:\n",
    "    print(result)"
   ]
  },
  {
   "cell_type": "code",
   "execution_count": 11,
   "id": "4491d01e",
   "metadata": {},
   "outputs": [
    {
     "name": "stdout",
     "output_type": "stream",
     "text": [
      "Comparison Results:\n",
      "Index 0: List2 value (90) is Less (Loss) than List1 value (100)\n",
      "Index 1: List2 value (150) is Greater (Profit) than List1 value (102)\n",
      "Index 2: List2 value (100) is Less (Loss) than List1 value (101)\n",
      "Index 3: List2 value (110) is Greater (Profit) than List1 value (105)\n",
      "Index 4: List2 value (105) is Less (Loss) than List1 value (110)\n",
      "Index 5: List2 value (108) is Greater (Profit) than List1 value (107)\n",
      "Index 6: List2 value (111) is Equal (No Change) than List1 value (111)\n",
      "\n",
      "Total Profit/Loss: 38.00\n",
      "Overall: Profit!\n"
     ]
    }
   ],
   "source": [
    "# Exercise 14: Stock Market Simulation\n",
    "\n",
    "def analyze_lists_for_profit_loss(list1, list2):\n",
    "    \n",
    "    if len(list1) != len(list2):\n",
    "        raise ValueError(\"Both lists must have the same length for comparison.\")\n",
    "\n",
    "    comparison_results = []\n",
    "    total_profit_loss = 0\n",
    "\n",
    "    for i in range(len(list1)):\n",
    "        val1 = list1[i]\n",
    "        val2 = list2[i]\n",
    "\n",
    "        if val2 > val1:\n",
    "            comparison_results.append(\"Greater (Profit)\")\n",
    "            total_profit_loss += (val2 - val1)\n",
    "        elif val2 < val1:\n",
    "            comparison_results.append(\"Less (Loss)\")\n",
    "            total_profit_loss += (val2 - val1) # This will be a negative value\n",
    "        else:\n",
    "            comparison_results.append(\"Equal (No Change)\")\n",
    "\n",
    "    return comparison_results, total_profit_loss\n",
    "\n",
    "\n",
    "prices_bought = [100, 102, 101, 105, 110, 107, 111]\n",
    "prices_sold = [90,150,100,110,105,108,111]\n",
    "\n",
    "results, profit_loss = analyze_lists_for_profit_loss(prices_bought, prices_sold)\n",
    "\n",
    "print(\"Comparison Results:\")\n",
    "for i, result in enumerate(results):\n",
    "    print(f\"Index {i}: List2 value ({prices_sold[i]}) is {result} than List1 value ({prices_bought[i]})\")\n",
    "\n",
    "print(f\"\\nTotal Profit/Loss: {profit_loss:.2f}\")\n",
    "\n",
    "if profit_loss > 0:\n",
    "    print(\"Overall: Profit!\")\n",
    "elif profit_loss < 0:\n",
    "    print(\"Overall: Loss!\")\n",
    "else:\n",
    "    print(\"Overall: No net change.\")"
   ]
  },
  {
   "cell_type": "code",
   "execution_count": 10,
   "id": "192c68e3",
   "metadata": {},
   "outputs": [
    {
     "name": "stdout",
     "output_type": "stream",
     "text": [
      "Number of days with temperature above 24.0°C: 3\n"
     ]
    }
   ],
   "source": [
    "# Exercise 15: Weather Data Analysis\n",
    "\n",
    "def count_days_above_temperature(temperatures, threshold):\n",
    "\n",
    "  count = 0\n",
    "  for temp in temperatures:\n",
    "    if temp > threshold:\n",
    "      count += 1\n",
    "  return count\n",
    "\n",
    "\n",
    "daily_temperatures = [23, 25, 22, 26, 24, 27, 21]\n",
    "target_temperature = 24.0\n",
    "\n",
    "days_above_threshold = count_days_above_temperature(daily_temperatures, target_temperature)\n",
    "print(f\"Number of days with temperature above {target_temperature}°C: {days_above_threshold}\")\n",
    "\n",
    "\n",
    "daily_temperatures = [23, 25, 22, 26, 24, 27, 21]\n",
    "\n"
   ]
  },
  {
   "cell_type": "code",
   "execution_count": null,
   "id": "7592d457",
   "metadata": {},
   "outputs": [
    {
     "name": "stdout",
     "output_type": "stream",
     "text": [
      "Counter({'A': 3, 'B': 3, 'C': 1})\n",
      "A\n"
     ]
    }
   ],
   "source": [
    "# Exercise 16: Simulate a Voting System\n",
    "\n",
    "\n",
    "from collections import Counter \n",
    "\n",
    "votes = ['A', 'B', 'A', 'C', 'B', 'A', 'B']\n",
    "\n",
    "#Count the votes for persons and stores in the dictionary\n",
    "vote_count=Counter(votes)\n",
    "\n",
    "print(vote_count)\n",
    "\n",
    "#Find the maximum number of votes\n",
    "max_votes=max(vote_count.values())\n",
    "\n",
    "#Search for people having maximum votes and store in a list\n",
    "lst=[i for i in vote_count.keys() if vote_count[i]==max_votes]\n",
    "\n",
    "#Sort the list and print lexicographical smallest name\n",
    "print(sorted(lst)[0])\n",
    "\n"
   ]
  },
  {
   "cell_type": "code",
   "execution_count": null,
   "id": "88b6054a",
   "metadata": {},
   "outputs": [
    {
     "name": "stdout",
     "output_type": "stream",
     "text": [
      "The multiplication result of matric A and B is: \n",
      "[37, 43, 59]\n",
      "[34, 58, 62]\n",
      "[58, 92, 103]\n"
     ]
    }
   ],
   "source": [
    "# Exercise 17: Matrix Multiplication\n",
    "\n",
    "A = [[5, 4, 3],\n",
    "     [2, 4, 6],\n",
    "     [4, 7, 9]]\n",
    "\n",
    "B = [[3, 2, 4],\n",
    "     [4, 3, 6],\n",
    "     [2, 7, 5]]\n",
    "\n",
    "result = [[0, 0, 0],\n",
    "          [0, 0, 0],\n",
    "          [0, 0, 0]]\n",
    "\n",
    "for i in range (len(A)):\n",
    "    for j in range (len(B[0])):\n",
    "        for k in range (len(B)):\n",
    "            result[i][j] += A[i][k] * B[k][j]\n",
    "\n",
    "print (\"The multiplication result of matric A and B is: \")\n",
    "\n",
    "for r in result:\n",
    "    print(r)"
   ]
  },
  {
   "cell_type": "code",
   "execution_count": 58,
   "id": "dffdfa01",
   "metadata": {},
   "outputs": [
    {
     "name": "stdout",
     "output_type": "stream",
     "text": [
      "1\n",
      "2\n",
      "3\n",
      "5\n",
      "7\n",
      "11\n",
      "13\n",
      "17\n",
      "19\n",
      "23\n",
      "29\n",
      "31\n",
      "37\n",
      "41\n",
      "43\n",
      "47\n",
      "53\n",
      "59\n",
      "61\n",
      "67\n",
      "71\n",
      "73\n",
      "79\n",
      "83\n",
      "89\n",
      "97\n",
      "Done......\n"
     ]
    }
   ],
   "source": [
    "# Exercise 18: Prime Number Generation\n",
    "\n",
    "num1 = int(input(\"Input a number: \"))\n",
    "num2 = int(input(\"Input another number: \"))\n",
    "\n",
    "\n",
    "for x in range(num1,num2):\n",
    "    prime = True\n",
    "    for i in range(2,x):\n",
    "        if (x%i==0):\n",
    "            prime = False\n",
    "    if prime == True:\n",
    "       print (x)\n",
    "\n",
    "print (\"Done......\")"
   ]
  },
  {
   "cell_type": "code",
   "execution_count": null,
   "id": "15ea78fd",
   "metadata": {},
   "outputs": [
    {
     "name": "stdout",
     "output_type": "stream",
     "text": [
      "[0, 1, 1, 2, 3, 5, 8, 13, 21, 34, 55, 89, 144, 233, 377]\n"
     ]
    }
   ],
   "source": [
    "# Exercise 19: Fibonacci Sequence\n",
    "\n",
    "def fibonacci(n):\n",
    "  sequence = [0,1]\n",
    "  for i in range(1, n-1):    \n",
    "    sequence.append(sequence[i-1]+sequence[i])\n",
    "\n",
    "  return sequence\n",
    "  \n",
    "print(fibonacci(15))\n"
   ]
  },
  {
   "cell_type": "code",
   "execution_count": 9,
   "id": "36602aa7",
   "metadata": {},
   "outputs": [
    {
     "name": "stdout",
     "output_type": "stream",
     "text": [
      "{'A': 300, 'B': 150, 'C': 50}\n"
     ]
    }
   ],
   "source": [
    "# Exercise 20: Case Study - Sales Data Analysis\n",
    "\n",
    "def calculate_total_sales_per_product(sales_data):\n",
    "   \n",
    "    total_sales = {}\n",
    "    for sale in sales_data:\n",
    "        product_name = sale['product']\n",
    "        sales_amount = sale['sales']\n",
    "        total_sales[product_name] = total_sales.get(product_name, 0) + sales_amount\n",
    "    return total_sales\n",
    "\n",
    "sales_list = [{'product': 'A', 'sales': 100},\n",
    "              {'product': 'B', 'sales': 150},\n",
    "              {'product': 'A', 'sales': 200},\n",
    "              {'product': 'C', 'sales': 50}]\n",
    "\n",
    "product_sales_summary = calculate_total_sales_per_product(sales_list)\n",
    "print(product_sales_summary)"
   ]
  },
  {
   "cell_type": "code",
   "execution_count": 14,
   "id": "841eb7a6",
   "metadata": {},
   "outputs": [
    {
     "name": "stdout",
     "output_type": "stream",
     "text": [
      "god mrni\n"
     ]
    }
   ],
   "source": [
    "# Exercise 21: Complex String Manipulation\n",
    "\n",
    "def remove_duplicate(s):\n",
    "    # Used as index in the modified string\n",
    "    result = []\n",
    "    seen = set()\n",
    "\n",
    "    # Traverse through all characters\n",
    "    for char in s:\n",
    "        # Check if s[i] is present before it  \n",
    "        if char not in seen:\n",
    "            result.append(char)\n",
    "            seen.add(char)\n",
    "    \n",
    "    # Join list to form the result string\n",
    "    return ''.join(result)\n",
    "\n",
    "# Driver code\n",
    "s = \"good morning\"\n",
    "print(remove_duplicate(s))"
   ]
  },
  {
   "cell_type": "code",
   "execution_count": null,
   "id": "dfe517e2",
   "metadata": {},
   "outputs": [
    {
     "name": "stdout",
     "output_type": "stream",
     "text": [
      "Initial Inventory:\n",
      "\n",
      "Remaining Inventory:\n",
      "apple: 50\n",
      "banana: 30\n",
      "orange: 20\n",
      "Sold 10 units of apple.\n",
      "Sold 25 units of banana.\n",
      "Sold 5 units of orange.\n",
      "grape not found in inventory.\n",
      "\n",
      "Remaining Inventory:\n",
      "apple: 40\n",
      "banana: 5\n",
      "orange: 15\n"
     ]
    }
   ],
   "source": [
    "# Exercise 22: Inventory Management System\n",
    "\n",
    "def sell_items(inventory, item_name, quantity_sold):\n",
    "   \n",
    "    if item_name in inventory:\n",
    "        if inventory[item_name] >= quantity_sold:\n",
    "            inventory[item_name] -= quantity_sold\n",
    "            print(f\"Sold {quantity_sold} units of {item_name}.\")\n",
    "        else:\n",
    "            print(f\"Not enough {item_name} in stock. Available: {inventory[item_name]}\")\n",
    "    else:\n",
    "        print(f\"{item_name} not found in inventory.\")\n",
    "\n",
    "def display_inventory(inventory):\n",
    "   \n",
    "    print(\"\\nRemaining Inventory:\")\n",
    "    for item, quantity in inventory.items():\n",
    "        print(f\"{item}: {quantity}\")\n",
    "\n",
    "# Initial inventory\n",
    "inventory = {'apple': 50, 'banana': 30, 'orange': 20}\n",
    "\n",
    "print(\"Initial Inventory:\")\n",
    "display_inventory(inventory)\n",
    "\n",
    "# Simulate sales\n",
    "sell_items(inventory, 'apple', 10)\n",
    "sell_items(inventory, 'banana', 25)  \n",
    "sell_items(inventory, 'orange', 5)\n",
    "sell_items(inventory, 'grape', 2) # Attempt to sell non-existent item\n",
    "\n",
    "# Display updated inventory\n",
    "display_inventory(inventory)"
   ]
  },
  {
   "cell_type": "code",
   "execution_count": null,
   "id": "749db160",
   "metadata": {},
   "outputs": [
    {
     "name": "stdout",
     "output_type": "stream",
     "text": [
      "{'good': 2, 'morning': 2, 'everyone': 2, 'this': 1, 'will': 1, 'have': 1, 'a': 1, 'chat': 1}\n"
     ]
    }
   ],
   "source": [
    "# Exercise 23: Text Analysis - Word Frequency\n",
    "\n",
    "import re6tg4z\n",
    "\n",
    "def calculate_word_frequency(text_string):\n",
    "  \n",
    "    # Convert the text to lowercase to ensure case-insensitivity\n",
    "    text_string = text_string.lower()\n",
    "\n",
    "    # Use a regular expression to split the string into words,\n",
    "    # handling punctuation and various delimiters.\n",
    "    # The regex r'\\b\\w+\\b' matches whole words.\n",
    "    words = re.findall(r'\\b\\w+\\b', text_string)\n",
    "\n",
    "    word_frequencies = {}\n",
    "    for word in words:\n",
    "        word_frequencies[word] = word_frequencies.get(word, 0) + 1\n",
    "\n",
    "    return word_frequencies\n",
    "\n",
    "# Example usage:\n",
    "long_text = \"Good morning, everyone. This morning, everyone will have a good chat.\"\n",
    "frequencies = calculate_word_frequency(long_text)\n",
    "print(frequencies)"
   ]
  },
  {
   "cell_type": "code",
   "execution_count": null,
   "id": "961359b5",
   "metadata": {},
   "outputs": [],
   "source": [
    "# Exercise 24: Genetic Algorithm Simulation\n"
   ]
  }
 ],
 "metadata": {
  "kernelspec": {
   "display_name": "Python 3",
   "language": "python",
   "name": "python3"
  },
  "language_info": {
   "codemirror_mode": {
    "name": "ipython",
    "version": 3
   },
   "file_extension": ".py",
   "mimetype": "text/x-python",
   "name": "python",
   "nbconvert_exporter": "python",
   "pygments_lexer": "ipython3",
   "version": "3.13.5"
  }
 },
 "nbformat": 4,
 "nbformat_minor": 5
}

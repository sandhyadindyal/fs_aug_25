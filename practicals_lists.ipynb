{
 "cells": [
  {
   "cell_type": "code",
   "execution_count": 2,
   "id": "859698c1",
   "metadata": {},
   "outputs": [
    {
     "name": "stdout",
     "output_type": "stream",
     "text": [
      "['apple', 'banana', 'cherry']\n"
     ]
    }
   ],
   "source": [
    "# Exercise 1: Creating a List\n",
    "\n",
    "fruits = [\"apple\", \"banana\", \"cherry\"]\n",
    "\n",
    "print (fruits)"
   ]
  },
  {
   "cell_type": "code",
   "execution_count": 13,
   "id": "ae8a589a",
   "metadata": {},
   "outputs": [
    {
     "name": "stdout",
     "output_type": "stream",
     "text": [
      "apple\n",
      "cherry\n"
     ]
    }
   ],
   "source": [
    "# Exercise 2: Accessing Elements\n",
    "\n",
    "fruits = [\"apple\", \"banana\", \"cherry\"]\n",
    "\n",
    "print (fruits [0])\n",
    "\n",
    "print (fruits [2])\n"
   ]
  },
  {
   "cell_type": "code",
   "execution_count": 16,
   "id": "efbb1ca9",
   "metadata": {},
   "outputs": [
    {
     "name": "stdout",
     "output_type": "stream",
     "text": [
      "['apple', 'oranges', 'cherry']\n"
     ]
    }
   ],
   "source": [
    "# Exercise 3: Modifying Elements\n",
    "\n",
    "fruits = [\"apple\", \"banana\", \"cherry\"]\n",
    "\n",
    "fruits[1] = \"oranges\"\n",
    "\n",
    "\n",
    "print (fruits)\n",
    "\n"
   ]
  },
  {
   "cell_type": "code",
   "execution_count": 17,
   "id": "b7de2197",
   "metadata": {},
   "outputs": [
    {
     "name": "stdout",
     "output_type": "stream",
     "text": [
      "['apple', 'banana', 'cherry', 'grape']\n"
     ]
    }
   ],
   "source": [
    "# Exercise 4: Appending Elements\n",
    "\n",
    "fruits = [\"apple\", \"banana\", \"cherry\"]\n",
    "\n",
    "fruits.append(\"grape\")\n",
    "\n",
    "\n",
    "print (fruits)\n"
   ]
  },
  {
   "cell_type": "code",
   "execution_count": 18,
   "id": "fb6afe69",
   "metadata": {},
   "outputs": [
    {
     "name": "stdout",
     "output_type": "stream",
     "text": [
      "['apple', 'mango', 'oranges', 'cherry', 'grape']\n"
     ]
    }
   ],
   "source": [
    "# Exercise 5: Inserting Elements\n",
    "\n",
    "fruits = [\"apple\", \"banana\", \"cherry\"]\n",
    "\n",
    "fruits[1] = \"oranges\"\n",
    "\n",
    "fruits.append(\"grape\")\n",
    "\n",
    "fruits.insert(1, \"mango\") \n",
    "\n",
    "print (fruits)"
   ]
  },
  {
   "cell_type": "code",
   "execution_count": 21,
   "id": "5de1fab6",
   "metadata": {},
   "outputs": [
    {
     "name": "stdout",
     "output_type": "stream",
     "text": [
      "['apple', 'mango', 'oranges', 'grape']\n"
     ]
    }
   ],
   "source": [
    "# Exercise 6: Removing Elements\n",
    "\n",
    "fruits = [\"apple\", \"banana\", \"cherry\"]\n",
    "\n",
    "fruits[1] = \"oranges\"\n",
    "\n",
    "fruits.append(\"grape\")\n",
    "\n",
    "fruits.insert(1, \"mango\") \n",
    "\n",
    "fruits.remove(\"cherry\")\n",
    "\n",
    "print (fruits)"
   ]
  },
  {
   "cell_type": "code",
   "execution_count": null,
   "id": "590f694c",
   "metadata": {},
   "outputs": [
    {
     "name": "stdout",
     "output_type": "stream",
     "text": [
      "[0, 1, 2]\n",
      "[8, 9, 10]\n"
     ]
    }
   ],
   "source": [
    "# Exercise 7: List Slicing\n",
    "\n",
    "list = [0, 1, 2, 3, 4, 5, 6, 7, 8, 9, 10]\n",
    "\n",
    "slice1 = list[:3]\n",
    "\n",
    "slice2 = list[-3:] # or slice2 = list[8:]\n",
    "\n",
    "print (slice1)\n",
    "\n",
    "print (slice2)"
   ]
  },
  {
   "cell_type": "code",
   "execution_count": 2,
   "id": "94a4c4fc",
   "metadata": {},
   "outputs": [
    {
     "name": "stdout",
     "output_type": "stream",
     "text": [
      "[1, 4, 9, 16, 25, 36, 49, 64, 81, 100]\n"
     ]
    }
   ],
   "source": [
    "# Exercise 8: List Comprehension\n",
    "\n",
    "squares = [i**2 for i in range(1, 11)]\n",
    "\n",
    "print(squares)"
   ]
  },
  {
   "cell_type": "code",
   "execution_count": 3,
   "id": "bcfee7e5",
   "metadata": {},
   "outputs": [
    {
     "name": "stdout",
     "output_type": "stream",
     "text": [
      "[2, 4, 6, 8, 10, 12, 14, 16, 18, 20]\n"
     ]
    }
   ],
   "source": [
    "# Exercise 9: Filtering with List Comprehension\n",
    "\n",
    "even_numbers = [num for num in range(1, 21) if num % 2 == 0]\n",
    "print(even_numbers)"
   ]
  },
  {
   "cell_type": "code",
   "execution_count": 11,
   "id": "2b9177e9",
   "metadata": {},
   "outputs": [
    {
     "name": "stdout",
     "output_type": "stream",
     "text": [
      "[1, 2, 5, 5, 6, 9]\n"
     ]
    }
   ],
   "source": [
    "# Exercise 10: Sorting a List\n",
    "\n",
    "list = [5, 2, 9, 1, 5, 6]\n",
    "\n",
    "list.sort()\n",
    "\n",
    "print(list)\n",
    "\n"
   ]
  },
  {
   "cell_type": "code",
   "execution_count": null,
   "id": "a23553ea",
   "metadata": {},
   "outputs": [
    {
     "name": "stdout",
     "output_type": "stream",
     "text": [
      "[5, 4, 3, 2, 1]\n"
     ]
    }
   ],
   "source": [
    "# Exercise 11: Reversing a List\n",
    "\n",
    "list = [1, 2, 3, 4, 5]\n",
    "\n",
    "list.reverse()\n",
    "\n",
    "print(list)\n"
   ]
  },
  {
   "cell_type": "code",
   "execution_count": 16,
   "id": "eca33413",
   "metadata": {},
   "outputs": [
    {
     "name": "stdout",
     "output_type": "stream",
     "text": [
      "[5, 2, 9, 1, 5, 6]\n",
      "[9, 6, 5, 5, 2, 1]\n"
     ]
    }
   ],
   "source": [
    "# Exercise 12: Sorting in Descending Order\n",
    "\n",
    "list = [5, 2, 9, 1, 5, 6]\n",
    "\n",
    "print (list)\n",
    "\n",
    "list.sort(reverse=True)\n",
    "print(list)"
   ]
  },
  {
   "cell_type": "code",
   "execution_count": null,
   "id": "9c8da283",
   "metadata": {},
   "outputs": [
    {
     "name": "stdout",
     "output_type": "stream",
     "text": [
      "[[1, 2, 3], [4, 5, 6]] \n",
      "\n",
      "[1, 2, 3]\n",
      "[4, 5, 6]\n",
      "6\n"
     ]
    }
   ],
   "source": [
    "# Exercise 13: Creating and Accessing Nested Lists\n",
    "\n",
    "matrix = [\n",
    "    [1, 2, 3],  \n",
    "    [4, 5, 6]   \n",
    "]\n",
    "\n",
    "print (matrix,\"\\n\")\n",
    "\n",
    "for row in matrix:\n",
    "    print(row)\n",
    "\n",
    "print(matrix[1][2])\n"
   ]
  },
  {
   "cell_type": "code",
   "execution_count": null,
   "id": "d9b7c7de",
   "metadata": {},
   "outputs": [
    {
     "name": "stdout",
     "output_type": "stream",
     "text": [
      "1\n",
      "2\n",
      "3\n",
      "4\n",
      "5\n",
      "6\n"
     ]
    }
   ],
   "source": [
    "# Exercise 14: Iterating Over Nested Lists\n",
    "\n",
    "matrix = [[1, 2, 3], [4, 5, 6]]\n",
    "\n",
    "for row in matrix:  # Iterate over each row in the matrix\n",
    "    \n",
    "    for element in row:  # Iterate over each element in the current row\n",
    "        print(element)\n"
   ]
  },
  {
   "cell_type": "code",
   "execution_count": 37,
   "id": "7e9ebeba",
   "metadata": {},
   "outputs": [
    {
     "name": "stdout",
     "output_type": "stream",
     "text": [
      "Original Matrix:\n",
      "[1, 2, 3]\n",
      "[4, 5, 6]\n",
      "\n",
      "Transposed Matrix:\n",
      "[1, 4]\n",
      "[2, 5]\n",
      "[3, 6]\n"
     ]
    }
   ],
   "source": [
    "# Exercise 15: Transposing a Matrix\n",
    "\n",
    "matrix = [[1, 2, 3], [4, 5, 6]]\n",
    "\n",
    "# Get the number of rows and columns in the original matrix\n",
    "rows = len(matrix)\n",
    "cols = len(matrix[0])\n",
    "\n",
    "# Create a new matrix with dimensions swapped (cols x rows) and initialize with zeros\n",
    "transposed_matrix = [[0 for _ in range(rows)] for _ in range(cols)]\n",
    "\n",
    "# Iterate through the original matrix and populate the transposed matrix\n",
    "for i in range(rows):\n",
    "    for j in range(cols):\n",
    "        transposed_matrix[j][i] = matrix[i][j]\n",
    "\n",
    "# Print the transposed matrix\n",
    "print(\"Original Matrix:\")\n",
    "for row in matrix:\n",
    "    print(row)\n",
    "\n",
    "print(\"\\nTransposed Matrix:\")\n",
    "for row in transposed_matrix:\n",
    "    print(row)"
   ]
  },
  {
   "cell_type": "code",
   "execution_count": 38,
   "id": "1363b3bd",
   "metadata": {},
   "outputs": [
    {
     "name": "stdout",
     "output_type": "stream",
     "text": [
      "The maximum value in the list is: 89\n",
      "The minimum value in the list is: 12\n"
     ]
    }
   ],
   "source": [
    "# Exercise 16: Finding the Maximum and Minimum\n",
    "\n",
    "numbers = [34, 67, 12, 89, 33]\n",
    "\n",
    "maximum_value = max(numbers)\n",
    "\n",
    "minimum_value = min(numbers)\n",
    "\n",
    "\n",
    "print(f\"The maximum value in the list is: {maximum_value}\")\n",
    "print(f\"The minimum value in the list is: {minimum_value}\")"
   ]
  },
  {
   "cell_type": "code",
   "execution_count": 2,
   "id": "7681c04e",
   "metadata": {},
   "outputs": [
    {
     "name": "stdout",
     "output_type": "stream",
     "text": [
      "[1, 2, 3, 4, 5]\n"
     ]
    }
   ],
   "source": [
    "# Exercise 17: Removing Duplicates\n",
    "\n",
    "original_list = [1, 2, 2, 3, 4, 4, 5]\n",
    "\n",
    "# Convert the list to a set to remove duplicates\n",
    "unique_elements_set = set(original_list)\n",
    "\n",
    "# Convert the set back to a list\n",
    "unique_elements = list(unique_elements_set)\n",
    "\n",
    "print(unique_elements)"
   ]
  },
  {
   "cell_type": "code",
   "execution_count": 2,
   "id": "160990d7",
   "metadata": {},
   "outputs": [
    {
     "name": "stdout",
     "output_type": "stream",
     "text": [
      "[1, 3, 5, 2, 4, 6]\n",
      "[1, 2, 3, 4, 5, 6]\n"
     ]
    }
   ],
   "source": [
    "# Exercise 18: Merging and Sorting Lists\n",
    "\n",
    "list1 = [1, 3, 5]\n",
    "list2 = [2, 4, 6]\n",
    "\n",
    "list = list1 + list2\n",
    "\n",
    "print(list)\n",
    "\n",
    "list.sort()\n",
    "\n",
    "print(list)"
   ]
  },
  {
   "cell_type": "code",
   "execution_count": 5,
   "id": "675f0978",
   "metadata": {},
   "outputs": [
    {
     "name": "stdout",
     "output_type": "stream",
     "text": [
      "['apple', 'cherry', 'oranges']\n"
     ]
    }
   ],
   "source": [
    "# Exercise 19: Simple Inventory System\n",
    "\n",
    "inventory = [\"apple\", \"banana\", \"cherry\"]\n",
    "\n",
    "inventory.append(\"oranges\")\n",
    "inventory.remove(\"banana\")\n",
    "\n",
    "\n",
    "print (inventory)"
   ]
  },
  {
   "cell_type": "code",
   "execution_count": null,
   "id": "850a1443",
   "metadata": {},
   "outputs": [],
   "source": [
    "# Exercise 20: Stock Level Management\n",
    "\n"
   ]
  }
 ],
 "metadata": {
  "kernelspec": {
   "display_name": "Python 3",
   "language": "python",
   "name": "python3"
  },
  "language_info": {
   "codemirror_mode": {
    "name": "ipython",
    "version": 3
   },
   "file_extension": ".py",
   "mimetype": "text/x-python",
   "name": "python",
   "nbconvert_exporter": "python",
   "pygments_lexer": "ipython3",
   "version": "3.13.5"
  }
 },
 "nbformat": 4,
 "nbformat_minor": 5
}

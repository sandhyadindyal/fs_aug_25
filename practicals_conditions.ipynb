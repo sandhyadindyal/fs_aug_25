{
 "cells": [
  {
   "cell_type": "code",
   "execution_count": 19,
   "id": "6c606aa6",
   "metadata": {},
   "outputs": [],
   "source": [
    "# Exercise 1: Simple If Statement\n",
    "\n",
    "num = int(input(\"Enter the number: \"))\n",
    "\n",
    "if num > 0:\n",
    "    print(f\"The number is positive.\")\n",
    "\n",
    "\n",
    "\n",
    "\n"
   ]
  },
  {
   "cell_type": "code",
   "execution_count": 21,
   "id": "fb99023d",
   "metadata": {},
   "outputs": [
    {
     "name": "stdout",
     "output_type": "stream",
     "text": [
      "The number is even.\n"
     ]
    }
   ],
   "source": [
    "# Exercise 2: If-Else Statement\n",
    "\n",
    "num = int(input(\"Enter the number: \"))\n",
    "\n",
    "if num %2 == 0:\n",
    "    print(f\"The number is even.\")\n",
    "\n",
    "else:\n",
    "     print(f\"The number is odd.\")\n"
   ]
  },
  {
   "cell_type": "code",
   "execution_count": 22,
   "id": "a7afb5f9",
   "metadata": {},
   "outputs": [
    {
     "name": "stdout",
     "output_type": "stream",
     "text": [
      "The number is zero.\n"
     ]
    }
   ],
   "source": [
    "# Exercise 3: If-Elif-Else Statement\n",
    "\n",
    "num = int(input(\"Enter the number: \"))\n",
    "\n",
    "if num > 0:\n",
    "    print(f\"The number is positive.\")\n",
    "\n",
    "elif num == 0:\n",
    "    print(f\"The number is zero.\")\n",
    "\n",
    "else:\n",
    "    print(f\"The number is negative.\")"
   ]
  },
  {
   "cell_type": "code",
   "execution_count": 30,
   "id": "e1259eff",
   "metadata": {},
   "outputs": [
    {
     "name": "stdout",
     "output_type": "stream",
     "text": [
      "Grade D\n"
     ]
    }
   ],
   "source": [
    "# Exercise 4: Grading System\n",
    "\n",
    "score = int(input(\"Enter the score of the student.\"))\n",
    "\n",
    "if score >= 90:\n",
    "    print(\"Grade A\")\n",
    "\n",
    "elif score >= 80:\n",
    "    print(\"Grade B\")\n",
    "\n",
    "elif score >= 70:\n",
    "    print(\"Grade c\")\n",
    "    \n",
    "else:\n",
    "    print(\"Grade D\")\n",
    "\n"
   ]
  },
  {
   "cell_type": "code",
   "execution_count": 35,
   "id": "26d14358",
   "metadata": {},
   "outputs": [
    {
     "name": "stdout",
     "output_type": "stream",
     "text": [
      "The year is a leap year.\n"
     ]
    }
   ],
   "source": [
    "# Exercise 5: Leap Year Checker\n",
    "\n",
    "year = int( input(\"Enter the year: \"))\n",
    "\n",
    "if year % 4 == 0 or year % 400 ==0:\n",
    "    print(f\"The year is a leap year.\")\n",
    "\n",
    "else:\n",
    "    print(f\"The year is not a leap year.\")"
   ]
  },
  {
   "cell_type": "code",
   "execution_count": 41,
   "id": "a0125d05",
   "metadata": {},
   "outputs": [
    {
     "name": "stdout",
     "output_type": "stream",
     "text": [
      "The maximum number is:  3\n"
     ]
    }
   ],
   "source": [
    "# Exercise 6: Max of Three Numbers\n",
    "\n",
    "num1 = int(input(\"Enter the first number: \"))\n",
    "num2 = int(input(\"Enter the second number: \"))\n",
    "num3 = int(input(\"Enter the third number: \"))\n",
    "\n",
    "if (num1 >= num2 & num1 >= num3):\n",
    "    print (f\"The maximum number is: \", num1)\n",
    "\n",
    "elif (num2 >= num1 & num2 >= num3):\n",
    "    print(f\"The maximum number is: \", num2)\n",
    "\n",
    "else: \n",
    "    print (f\"The maximum number is: \", num3)"
   ]
  },
  {
   "cell_type": "code",
   "execution_count": 50,
   "id": "96c6c60a",
   "metadata": {},
   "outputs": [
    {
     "name": "stdout",
     "output_type": "stream",
     "text": [
      "BMI = 17.1875\n",
      "The person is underweight.\n"
     ]
    }
   ],
   "source": [
    "# Exercise 7: BMI Calculator\n",
    "\n",
    "weight = float(input(\"Enter your weight: \"))\n",
    "height = float(input(\"Enter your height: \"))\n",
    "\n",
    "bmi = weight / (height*2)\n",
    "\n",
    "print (f\"BMI = {bmi}\")\n",
    "\n",
    "if bmi < 18.5:\n",
    "    print(\"The person is underweight.\")\n",
    "              \n",
    "elif 18.5 <= bmi < 25:\n",
    "    print(\"The person has normal weight.\")\n",
    "\n",
    "elif 25 <= bmi < 30:\n",
    "        print(\"The person is overweight.\")\n",
    "else:\n",
    "        print(\"The person is obese.\")"
   ]
  },
  {
   "cell_type": "code",
   "execution_count": 68,
   "id": "1b4df3b9",
   "metadata": {},
   "outputs": [
    {
     "name": "stdout",
     "output_type": "stream",
     "text": [
      "1 = sum, 2 = substract, 3 = divide, 4 = multiply\n",
      "2 * 3 = 6\n"
     ]
    }
   ],
   "source": [
    "# Exercise 8: Simple Calculator\n",
    "\n",
    "num1 = int(input (\"Enter the first number\"))\n",
    "num2 = int(input (\"Enter the second number\"))\n",
    "\n",
    "print (\"1 = sum, 2 = substract, 3 = divide, 4 = multiply\")\n",
    "\n",
    "operator = int(input(\"Enter the calculation type: \"))\n",
    "\n",
    "if operator == 1:\n",
    "    add = num1 + num2\n",
    "    print(f\"{num1} + {num2} = {add}\")\n",
    "\n",
    "elif operator == 2:\n",
    "    substract = num1 - num2\n",
    "    print(f\"{num1} - {num2} = {substract}\")\n",
    "\n",
    "elif operator == 3:\n",
    "    divide = num1 / num2\n",
    "    print(f\"{num1} / {num2} = {divide}\")\n",
    "\n",
    "elif operator == 4:\n",
    "    multiply = num1 * num2\n",
    "    print(f\"{num1} * {num2} = {multiply}\")"
   ]
  },
  {
   "cell_type": "code",
   "execution_count": 72,
   "id": "9bffda4c",
   "metadata": {},
   "outputs": [
    {
     "name": "stdout",
     "output_type": "stream",
     "text": [
      "You are not eligible to vote.\n"
     ]
    }
   ],
   "source": [
    "# Exercise 9: Voting Eligibility\n",
    "\n",
    "age = int(input(\"Enter your age: \"))\n",
    "\n",
    "if age >=18:\n",
    "    print(f\"You are eligible to vote.\")\n",
    "else:\n",
    "    print(f\"You are not eligible to vote.\")"
   ]
  },
  {
   "cell_type": "code",
   "execution_count": 86,
   "id": "939b7ba6",
   "metadata": {},
   "outputs": [
    {
     "name": "stdout",
     "output_type": "stream",
     "text": [
      "There is no discount. The final price is: Rs 80\n"
     ]
    }
   ],
   "source": [
    "# Exercise 10: Apply Discount\n",
    "\n",
    "total = int(input (\"Enter the total price: \"))\n",
    "\n",
    "if total > 100:\n",
    "    final_price = 0.9 * total\n",
    "    print(f\"The final price after discount is: Rs {final_price}\")\n",
    "\n",
    "else:\n",
    "    print(f\"There is no discount. The final price is: Rs {total}\")"
   ]
  },
  {
   "cell_type": "code",
   "execution_count": 13,
   "id": "d1fb66a7",
   "metadata": {},
   "outputs": [
    {
     "name": "stdout",
     "output_type": "stream",
     "text": [
      "Total price of 1 items is: $30\n",
      "Shipping for your purchase will cost $20.\n"
     ]
    }
   ],
   "source": [
    "# Exercise 11: Free Shipping\n",
    "\n",
    "items_num = int(input (\"Enter the number of items: \"))\n",
    "\n",
    "numbers = [] \n",
    "\n",
    "for i in range (items_num):\n",
    "    total = int(input(f\"Enter the price of item {i+1}\"))\n",
    "    i += 1\n",
    "    numbers.append(total)\n",
    "\n",
    "total_sum = sum(numbers)\n",
    "\n",
    "print(f\"Total price of {items_num} items is: ${total_sum}\")\n",
    "\n",
    "if total_sum > 50:\n",
    "    print(f\"You will get free shipping for your purchase.\")\n",
    "else:\n",
    "    print(f\"Shipping for your purchase will cost $20.\")"
   ]
  },
  {
   "cell_type": "code",
   "execution_count": 38,
   "id": "0a7bdee1",
   "metadata": {},
   "outputs": [
    {
     "name": "stdout",
     "output_type": "stream",
     "text": [
      "The triangle is equilateral.\n"
     ]
    }
   ],
   "source": [
    "# Exercise 12: Determine the Triangle Type\n",
    "\n",
    "\n",
    "side1 = int(input(\"Enter the length of the first side fo the triangle\"))\n",
    "side2 = int(input(\"Enter the length of the second side fo the triangle\"))\n",
    "side3 = int(input(\"Enter the length of the third side fo the triangle\"))\n",
    "\n",
    "if side1 == side2 and side2 == side3:\n",
    "    print(\"The triangle is equilateral.\")\n",
    "elif side1 == side2 or side1 == side3 or side2 == side3:\n",
    "    print(\"The triangle is isosceles.\")\n",
    "else:\n",
    "    print(\"The triangle is scalene.\")\n",
    "    "
   ]
  },
  {
   "cell_type": "code",
   "execution_count": 6,
   "id": "8c3950f8",
   "metadata": {},
   "outputs": [
    {
     "name": "stdout",
     "output_type": "stream",
     "text": [
      "Welcome to Rock, Paper, Scissors!\n",
      "\n",
      "You chose rock, computer chose paper.\n",
      "\n",
      "Paper covers rock! You lose.\n"
     ]
    }
   ],
   "source": [
    "# Exercise 13: Rock, Paper, Scissors Game\n",
    "\n",
    "print(\"Welcome to Rock, Paper, Scissors!\")\n",
    "\n",
    "user = input(\"Enter a choice (rock. paper, scissors): \")\n",
    "\n",
    "import random\n",
    "\n",
    "actions = [\"rock\", \"paper\", \"scissors\"]\n",
    "computer = random.choice(actions)\n",
    "\n",
    "print(f\"\\nYou chose {user}, computer chose {computer}.\\n\")\n",
    "\n",
    "if user == computer:\n",
    "    print(f\"Both players selected {user}. It's a tie!\")\n",
    "elif user == \"rock\":\n",
    "    if computer == \"scissors\":\n",
    "        print(\"Rock smashes scissors! You win!\")\n",
    "    else:\n",
    "        print(\"Paper covers rock! You lose.\")\n",
    "elif user== \"paper\":\n",
    "    if computer == \"rock\":\n",
    "        print(\"Paper covers rock! You win!\")\n",
    "    else:\n",
    "        print(\"Scissors cuts paper! You lose.\")\n",
    "elif user == \"scissors\":\n",
    "    if computer == \"paper\":\n",
    "        print(\"Scissors cuts paper! You win!\")\n",
    "    else:\n",
    "        print(\"Rock smashes scissors! You lose.\")"
   ]
  },
  {
   "cell_type": "code",
   "execution_count": 33,
   "id": "96b28278",
   "metadata": {},
   "outputs": [
    {
     "name": "stdout",
     "output_type": "stream",
     "text": [
      "Welcome to MCB. \n",
      "Please insert your card and pin number.\n",
      "\n",
      "Transaction successful. \n",
      "Take your card first and then money.\n",
      "Balance: 29000\n"
     ]
    }
   ],
   "source": [
    "# Exercise 14: ATM Machine\n",
    "\n",
    "print(\"Welcome to MCB. \\nPlease insert your card and pin number.\")\n",
    "\n",
    "money = int (input(\"Enter the amount of money you want to withdraw:\"))\n",
    "\n",
    "balance = 30000\n",
    "\n",
    "if money < balance:\n",
    "    print(\"\\nTransaction successful. \\nTake your card first and then money.\")\n",
    "    new_balance = balance - money\n",
    "    print(f\"Balance: {new_balance}\")\n",
    "\n",
    "else: \n",
    "    print(\"\\nTransaction failed. \\nInsufficient funds available in account.\")\n",
    "\n",
    "\n"
   ]
  },
  {
   "cell_type": "code",
   "execution_count": 46,
   "id": "fca6b207",
   "metadata": {},
   "outputs": [
    {
     "name": "stdout",
     "output_type": "stream",
     "text": [
      "Welcome to the loan portal.\n",
      "Your age is: 25 years old.\n",
      "You are eligible for a loan\n"
     ]
    }
   ],
   "source": [
    "# Exercise 15: Loan Eligibility\n",
    "\n",
    "print('Welcome to the loan portal.')\n",
    "\n",
    "age = int(input(\"Enter your age: \"))\n",
    "\n",
    "print(f\"Your age is: {age} years old.\")\n",
    "\n",
    "income = int(input(\"Do you have a stable income? \\n 1: Yes / \\n 2: No: \"))\n",
    "debt = int(input(\"Do you have any existing debts? \\n 1: Yes / \\n 2: No: \"))\n",
    "\n",
    "if age > 21 and income == 1 and debt == 2:\n",
    "    print(\"You are eligible for a loan\")\n",
    "else:\n",
    "    print(\"You are not eligible for a loan\")\n",
    "\n"
   ]
  },
  {
   "cell_type": "code",
   "execution_count": null,
   "id": "4fc59b0a",
   "metadata": {},
   "outputs": [
    {
     "name": "stdout",
     "output_type": "stream",
     "text": [
      "\n",
      "Password Strength: Strong\n"
     ]
    }
   ],
   "source": [
    "# Exercise 16: Password Strength Checker\n",
    "\n",
    "import re\n",
    "\n",
    "def check_password_strength(password):\n",
    "    \"\"\"\n",
    "    Checks the strength of a password based on length, inclusion of uppercase,\n",
    "    lowercase, numbers, and special characters.\n",
    "    \"\"\"\n",
    "    score = 0\n",
    "    feedback = []\n",
    "\n",
    "    # 1. Length check\n",
    "    min_length = 8\n",
    "    if len(password) >= min_length:\n",
    "        score += 1\n",
    "    else:\n",
    "        feedback.append(f\"Password should be at least {min_length} characters long.\")\n",
    "\n",
    "    # 2. Uppercase check\n",
    "    if re.search(r\"[A-Z]\", password):\n",
    "        score += 1\n",
    "    else:\n",
    "        feedback.append(\"Password should contain at least one uppercase letter.\")\n",
    "\n",
    "    # 3. Lowercase check\n",
    "    if re.search(r\"[a-z]\", password):\n",
    "        score += 1\n",
    "    else:\n",
    "        feedback.append(\"Password should contain at least one lowercase letter.\")\n",
    "\n",
    "    # 4. Number check\n",
    "    if re.search(r\"[0-9]\", password):\n",
    "        score += 1\n",
    "    else:\n",
    "        feedback.append(\"Password should contain at least one number.\")\n",
    "\n",
    "    # 5. Special character check\n",
    "    # Using a common set of special characters. Can be customized.\n",
    "    if re.search(r\"[!@#$%^&*()_+\\-=\\[\\]{};':\\\"\\\\|,.<>/?`~]\", password):\n",
    "        score += 1\n",
    "    else:\n",
    "        feedback.append(\"Password should contain at least one special character.\")\n",
    "\n",
    "    # Determine strength level\n",
    "    if score == 5:\n",
    "        strength = \"Strong\"\n",
    "    elif score >= 3:\n",
    "        strength = \"Medium\"\n",
    "    else:\n",
    "        strength = \"Weak\"\n",
    "\n",
    "    return strength, feedback\n",
    "\n",
    "# Example usage:\n",
    "if __name__ == \"__main__\":\n",
    "    password = input(\"Enter your password: \")\n",
    "    strength, feedback = check_password_strength(password)\n",
    "\n",
    "    print(f\"\\nPassword Strength: {strength}\")\n",
    "    if feedback:\n",
    "        print(\"Suggestions for improvement:\")\n",
    "        for item in feedback:\n",
    "            print(f\"- {item}\")"
   ]
  },
  {
   "cell_type": "code",
   "execution_count": null,
   "id": "01673a4c",
   "metadata": {},
   "outputs": [
    {
     "name": "stdout",
     "output_type": "stream",
     "text": [
      "Valid Password.\n"
     ]
    }
   ],
   "source": [
    "# Exercise 16: Password Strength Checker\n",
    "import re\n",
    "\n",
    "def validate_password(password):\n",
    "    # Check if the password has at least 8 characters\n",
    "    if len(password) < 8:\n",
    "        return False\n",
    "    \n",
    "    # Check if the password contains at least one uppercase letter\n",
    "    if not re.search(r'[A-Z]', password):\n",
    "        return False\n",
    "    \n",
    "    # Check if the password contains at least one lowercase letter\n",
    "    if not re.search(r'[a-z]', password):\n",
    "        return False\n",
    "    \n",
    "    # Check if the password contains at least one digit\n",
    "    if not re.search(r'\\d', password):\n",
    "        return False\n",
    "    \n",
    "    # Check if the password contains at least one special character\n",
    "    if not re.search(r'[!@#$%^&*(),.?\":{}|<>]', password):\n",
    "        return False\n",
    "    \n",
    "    # If all the conditions are met, the password is valid\n",
    "    return True\n",
    "\n",
    "password = input(\"Input your password: \")\n",
    "is_valid = validate_password(password)\n",
    "\n",
    "if is_valid:\n",
    "    print(\"Valid Password.\")\n",
    "else:\n",
    "    print(\"Password does not meet requirements.\")\n",
    "\n",
    "import re\n",
    "\n",
    "def validate_password(password):\n",
    "    # Check if the password has at least 8 characters\n",
    "    if len(password) < 8:\n",
    "        return False\n",
    "    \n",
    "    # Check if the password contains at least one uppercase letter\n",
    "    if not re.search(r'[A-Z]', password):\n",
    "        return False\n",
    "    \n",
    "    # Check if the password contains at least one lowercase letter\n",
    "    if not re.search(r'[a-z]', password):\n",
    "        return False\n",
    "    \n",
    "    # Check if the password contains at least one digit\n",
    "    if not re.search(r'\\d', password):\n",
    "        return False\n",
    "    \n",
    "    # Check if the password contains at least one special character\n",
    "    if not re.search(r'[!@#$%^&*(),.?\":{}|<>]', password):\n",
    "        return False\n",
    "    \n",
    "    # If all the conditions are met, the password is valid\n",
    "    return True\n",
    "\n",
    "password = input(\"Input your password: \")\n",
    "is_valid = validate_password(password)\n",
    "\n",
    "if is_valid:\n",
    "    print(\"Valid Password.\")\n",
    "else:\n",
    "    print(\"Password does not meet requirements.\")\n"
   ]
  },
  {
   "cell_type": "code",
   "execution_count": null,
   "id": "34d2009b",
   "metadata": {},
   "outputs": [
    {
     "name": "stdout",
     "output_type": "stream",
     "text": [
      "The price is $12\n"
     ]
    }
   ],
   "source": [
    "# Exercise 17: Event Ticket Pricing\n",
    "\n",
    "age = int(input(\"Please enter your age: \"))\n",
    "\n",
    "if age < 12:\n",
    "    print(\"The ticket price is $10\")\n",
    "\n",
    "elif age < 17:\n",
    "    print(\"The ticket price is $15\")\n",
    "\n",
    "elif age < 59:\n",
    "    print(\"The ticket price is $20\")\n",
    "\n",
    "else:\n",
    "    print(\"The ticket price is $12\")"
   ]
  },
  {
   "cell_type": "code",
   "execution_count": 4,
   "id": "2db72b8b",
   "metadata": {},
   "outputs": [
    {
     "name": "stdout",
     "output_type": "stream",
     "text": [
      "Order 1: Order can be fulfilled successfully. (Can fulfill: True)\n",
      "Order 2: Order cannot be fulfilled: Not enough stock for 'Laptop'. (Can fulfill: False)\n",
      "Order 3: Order cannot be fulfilled: Total order weight (12.00 units) exceeds the limit (10.00 units). (Can fulfill: False)\n",
      "Order 4: Order cannot be fulfilled: Not enough stock for 'Webcam'. (Can fulfill: False)\n"
     ]
    }
   ],
   "source": [
    "# Exercise 18: Order Fulfillment System\n",
    "\n",
    "def check_order_fulfillment(order_items, stock_data, weight_data, max_weight_limit):\n",
    "    \"\"\"\n",
    "    Checks if an order can be fulfilled based on stock availability and total weight.\n",
    "\n",
    "    Args:\n",
    "        order_items (dict): A dictionary where keys are item names and values are\n",
    "                            the quantities ordered.\n",
    "        stock_data (dict): A dictionary where keys are item names and values are\n",
    "                           the quantities currently in stock.\n",
    "        weight_data (dict): A dictionary where keys are item names and values are\n",
    "                            the weight per unit of that item.\n",
    "        max_weight_limit (float or int): The maximum total weight allowed for an order.\n",
    "\n",
    "    Returns:\n",
    "        bool: True if the order can be fulfilled, False otherwise.\n",
    "        str: A message explaining why the order cannot be fulfilled, or a success message.\n",
    "    \"\"\"\n",
    "    total_order_weight = 0\n",
    "\n",
    "    # Check stock availability for each item in the order\n",
    "    for item, ordered_quantity in order_items.items():\n",
    "        if item not in stock_data or stock_data[item] < ordered_quantity:\n",
    "            return False, f\"Order cannot be fulfilled: Not enough stock for '{item}'.\"\n",
    "\n",
    "        # Calculate total weight if stock is available\n",
    "        if item in weight_data:\n",
    "            total_order_weight += weight_data[item] * ordered_quantity\n",
    "        else:\n",
    "            return False, f\"Order cannot be fulfilled: Weight data missing for '{item}'.\"\n",
    "\n",
    "    # Check total order weight against the limit\n",
    "    if total_order_weight > max_weight_limit:\n",
    "        return False, f\"Order cannot be fulfilled: Total order weight ({total_order_weight:.2f} units) exceeds the limit ({max_weight_limit:.2f} units).\"\n",
    "\n",
    "    return True, \"Order can be fulfilled successfully.\"\n",
    "\n",
    "# Example Usage:\n",
    "if __name__ == \"__main__\":\n",
    "    # Sample data\n",
    "    current_stock = {\n",
    "        \"Laptop\": 10,\n",
    "        \"Mouse\": 50,\n",
    "        \"Keyboard\": 20,\n",
    "        \"Monitor\": 5\n",
    "    }\n",
    "\n",
    "    item_weights = {\n",
    "        \"Laptop\": 2.5,  # kg\n",
    "        \"Mouse\": 0.1,   # kg\n",
    "        \"Keyboard\": 0.7, # kg\n",
    "        \"Monitor\": 4.0    # kg\n",
    "    }\n",
    "\n",
    "    warehouse_weight_limit = 10.0 # kg\n",
    "\n",
    "    # Test Case 1: Order can be fulfilled\n",
    "    order1 = {\"Laptop\": 1, \"Mouse\": 2, \"Keyboard\": 1}\n",
    "    can_fulfill1, message1 = check_order_fulfillment(order1, current_stock, item_weights, warehouse_weight_limit)\n",
    "    print(f\"Order 1: {message1} (Can fulfill: {can_fulfill1})\")\n",
    "\n",
    "    # Test Case 2: Not enough stock\n",
    "    order2 = {\"Laptop\": 12, \"Mouse\": 1}\n",
    "    can_fulfill2, message2 = check_order_fulfillment(order2, current_stock, item_weights, warehouse_weight_limit)\n",
    "    print(f\"Order 2: {message2} (Can fulfill: {can_fulfill2})\")\n",
    "\n",
    "    # Test Case 3: Exceeds weight limit\n",
    "    order3 = {\"Monitor\": 3}\n",
    "    can_fulfill3, message3 = check_order_fulfillment(order3, current_stock, item_weights, warehouse_weight_limit)\n",
    "    print(f\"Order 3: {message3} (Can fulfill: {can_fulfill3})\")\n",
    "\n",
    "    # Test Case 4: Missing weight data\n",
    "    order4 = {\"Laptop\": 1, \"Webcam\": 1}\n",
    "    can_fulfill4, message4 = check_order_fulfillment(order4, current_stock, item_weights, warehouse_weight_limit)\n",
    "    print(f\"Order 4: {message4} (Can fulfill: {can_fulfill4})\")"
   ]
  },
  {
   "cell_type": "code",
   "execution_count": 16,
   "id": "8d1b24a5",
   "metadata": {},
   "outputs": [
    {
     "name": "stdout",
     "output_type": "stream",
     "text": [
      "Ratings are as follows: \n",
      "3: bad \n",
      "4: average \n",
      "3: good \n",
      "6: very good\n",
      "\n",
      "Average rating of the employee = 3.3666666666666667\n",
      "\n",
      "Employee gets a bonus.\n"
     ]
    }
   ],
   "source": [
    "# Exercise 19: Employee Performance Review\n",
    "\n",
    "name = input (\"Enter the employee name: \")\n",
    "\n",
    "print(\"Ratings are as follows: \\n3: bad \\n4: average \\n3: good \\n6: very good\")\n",
    "\n",
    "performance = float(input(f\"Enter the performance rating for {name}: \"))\n",
    "\n",
    "teamwork = float(input(f\"Enter the teamwork rating for {name}: \"))\n",
    "\n",
    "punctuality = float(input(f\"Enter the punctuality rating for {name}: \"))\n",
    "\n",
    "total_rating = performance + teamwork + punctuality\n",
    "\n",
    "average = total_rating/3\n",
    "\n",
    "print (f\"\\nAverage rating of the employee = {average}\")\n",
    "\n",
    "if total_rating >= 4.5:\n",
    "    print (\"\\nEmployee gets a bonus.\")\n",
    "\n",
    "else:\n",
    "    print (\"\\nEmployee does not get a bonus.\")\n"
   ]
  },
  {
   "cell_type": "code",
   "execution_count": null,
   "id": "8492b676",
   "metadata": {},
   "outputs": [],
   "source": [
    "# Exercise 20: Case Study - Smart Thermostat\n",
    "\n",
    "from datetime import datetime\n",
    "import time\n",
    "\n",
    "\n",
    "# Get the current datetime\n",
    "now = datetime.now()\n",
    "print(f\"Current time: {now}\")\n",
    "\n",
    "people = input(\"How many people are present in the room?\")\n",
    "\n",
    "if people = 0:\n",
    "\n",
    "    if now > 6:\n",
    "        print (\"Temperature is sst to 22 degrees celcius.\")\n",
    "    else:\n",
    "        print(\"Temperature is sst to 18 degrees celcius.\")\n",
    "    elif now > 9:"
   ]
  },
  {
   "cell_type": "code",
   "execution_count": null,
   "id": "f662da80",
   "metadata": {},
   "outputs": [],
   "source": [
    "# Exercise 20: Case Study - Smart Thermostat"
   ]
  },
  {
   "cell_type": "code",
   "execution_count": null,
   "id": "50567610",
   "metadata": {},
   "outputs": [],
   "source": [
    "# Exercise 20: Case Study - Smart Thermostat\n",
    "\n",
    "import datetime\n",
    "import time\n",
    "\n",
    "class SmartThermostat:\n",
    "    def __init__(self, current_temp=22.0):\n",
    "        self.current_temp = current_temp\n",
    "        self.target_temp = current_temp\n",
    "        self.heating_on = False\n",
    "        self.cooling_on = False\n",
    "\n",
    "        # Define temperature schedules for different scenarios\n",
    "        self.schedules = {\n",
    "            \"occupied_day\": 23.0,  # Example: comfortable temp during day when occupied\n",
    "            \"unoccupied_day\": 20.0, # Example: setback temp during day when unoccupied\n",
    "            \"occupied_night\": 21.0, # Example: slightly cooler at night when occupied\n",
    "            \"unoccupied_night\": 18.0 # Example: deeper setback at night when unoccupied\n",
    "        }\n",
    "\n",
    "    def get_current_time_and_occupancy(self):\n",
    "        \"\"\"\n",
    "        Simulates getting current time and occupancy status.\n",
    "        In a real system, this would involve sensors (e.g., PIR sensors for occupancy).\n",
    "        For demonstration, we'll use fixed values.\n",
    "        \"\"\"\n",
    "        current_hour = datetime.datetime.now().hour\n",
    "        # Simulate occupancy based on time for simplicity\n",
    "        # In a real system, this would come from a sensor\n",
    "        is_occupied = 7 <= current_hour < 22 # Assume occupied between 7 AM and 10 PM\n",
    "        \n",
    "        is_daytime = 6 <= current_hour < 18 # Assume daytime between 6 AM and 6 PM\n",
    "        \n",
    "        return is_daytime, is_occupied\n",
    "\n",
    "    def set_target_temperature(self):\n",
    "        \"\"\"\n",
    "        Determines the target temperature based on time of day and occupancy.\n",
    "        \"\"\"\n",
    "        is_daytime, is_occupied = self.get_current_time_and_occupancy()\n",
    "\n",
    "        if is_occupied:\n",
    "            if is_daytime:\n",
    "                self.target_temp = self.schedules[\"occupied_day\"]\n",
    "            else:\n",
    "                self.target_temp = self.schedules[\"occupied_night\"]\n",
    "        else:\n",
    "            if is_daytime:\n",
    "                self.target_temp = self.schedules[\"unoccupied_day\"]\n",
    "            else:\n",
    "                self.target_temp = self.schedules[\"unoccupied_night\"]\n",
    "\n",
    "        print(f\"Current time: {datetime.datetime.now().strftime('%H:%M')}, Daytime: {is_daytime}, Occupied: {is_occupied}\")\n",
    "        print(f\"Current Temperature: {self.current_temp:.1f}°C, Target Temperature: {self.target_temp:.1f}°C\")\n",
    "\n",
    "    def control_hvac(self):\n",
    "        \"\"\"\n",
    "        Simulates turning heating/cooling on or off based on current and target temperatures.\n",
    "        \"\"\"\n",
    "        if self.current_temp < self.target_temp - 1.0: # Allow for a 1-degree buffer\n",
    "            if not self.heating_on:\n",
    "                print(\"Turning on heating...\")\n",
    "                self.heating_on = True\n",
    "                self.cooling_on = False\n",
    "            # Simulate temperature increase\n",
    "            self.current_temp += 0.5 \n",
    "        elif self.current_temp > self.target_temp + 1.0: # Allow for a 1-degree buffer\n",
    "            if not self.cooling_on:\n",
    "                print(\"Turning on cooling...\")\n",
    "                self.cooling_on = True\n",
    "                self.heating_on = False\n",
    "            # Simulate temperature decrease\n",
    "            self.current_temp -= 0.5\n",
    "        else:\n",
    "            if self.heating_on or self.cooling_on:\n",
    "                print(\"Turning off HVAC.\")\n",
    "                self.heating_on = False\n",
    "                self.cooling_on = False\n",
    "\n",
    "    def run(self):\n",
    "        \"\"\"\n",
    "        Main loop to continuously monitor and adjust the thermostat.\n",
    "        \"\"\"\n",
    "        while True:\n",
    "            self.set_target_temperature()\n",
    "            self.control_hvac()\n",
    "            print(\"-\" * 30)\n",
    "            time.sleep(5) # Check every 5 seconds (for simulation purposes)\n",
    "\n",
    "if __name__ == \"__main__\":\n",
    "    thermostat = SmartThermostat(current_temp=25.0) # Start with a sample current temperature\n",
    "    thermostat.run()"
   ]
  },
  {
   "cell_type": "code",
   "execution_count": 1,
   "id": "dc5e6046",
   "metadata": {},
   "outputs": [
    {
     "name": "stdout",
     "output_type": "stream",
     "text": [
      "Error: Not enough Mechanical Keyboard in stock. Available: 0\n",
      "\n",
      "--- Order Summary ---\n",
      "Customer: Alice Smith\n",
      "Shipping Address: 123 Main St, Anytown, USA 12345\n",
      "Items:\n",
      "  - Laptop (x1) - $1200.00 each\n",
      "  - Wireless Mouse (x2) - $25.00 each\n",
      "Total Value: $1250.00\n",
      "Shipping Address Valid: True\n",
      "Has Items in Stock: True\n",
      "---------------------\n",
      "\n",
      "--- Order Summary ---\n",
      "Customer: Bob Johnson\n",
      "Shipping Address: \n",
      "Items:\n",
      "  - Wireless Mouse (x1) - $25.00 each\n",
      "Total Value: $25.00\n",
      "Shipping Address Valid: False\n",
      "Has Items in Stock: True\n",
      "---------------------\n"
     ]
    }
   ],
   "source": [
    "#### ** Final Exercise - Mini Case Study**\n",
    "\n",
    "### **Exercise 21: E-commerce Order Management**\n",
    "\n",
    "class Product:\n",
    "    def __init__(self, name, price, stock):\n",
    "        self.name = name\n",
    "        self.price = price\n",
    "        self.stock = stock\n",
    "\n",
    "class Order:\n",
    "    def __init__(self, customer_name, shipping_address):\n",
    "        self.customer_name = customer_name\n",
    "        self.shipping_address = shipping_address\n",
    "        self.items = {}  # {product_object: quantity}\n",
    "        self.total_value = 0.0\n",
    "\n",
    "    def add_item(self, product, quantity):\n",
    "        if not isinstance(product, Product):\n",
    "            raise ValueError(\"Invalid product object provided.\")\n",
    "        if quantity <= 0:\n",
    "            raise ValueError(\"Quantity must be positive.\")\n",
    "        if product.stock < quantity:\n",
    "            print(f\"Error: Not enough {product.name} in stock. Available: {product.stock}\")\n",
    "            return False\n",
    "        \n",
    "        self.items[product] = self.items.get(product, 0) + quantity\n",
    "        product.stock -= quantity\n",
    "        self.calculate_total_value()\n",
    "        return True\n",
    "\n",
    "    def calculate_total_value(self):\n",
    "        self.total_value = sum(product.price * quantity for product, quantity in self.items.items())\n",
    "\n",
    "    def validate_shipping_address(self):\n",
    "        # A simple validation: checks if address is not empty and contains a number (e.g., house number)\n",
    "        return bool(self.shipping_address) and any(char.isdigit() for char in self.shipping_address)\n",
    "\n",
    "    def has_items_in_stock(self):\n",
    "        return any(self.items.values()) # Checks if there is at least one item with quantity > 0\n",
    "\n",
    "    def display_order_summary(self):\n",
    "        print(\"\\n--- Order Summary ---\")\n",
    "        print(f\"Customer: {self.customer_name}\")\n",
    "        print(f\"Shipping Address: {self.shipping_address}\")\n",
    "        print(\"Items:\")\n",
    "        for product, quantity in self.items.items():\n",
    "            print(f\"  - {product.name} (x{quantity}) - ${product.price:.2f} each\")\n",
    "        print(f\"Total Value: ${self.total_value:.2f}\")\n",
    "        print(f\"Shipping Address Valid: {self.validate_shipping_address()}\")\n",
    "        print(f\"Has Items in Stock: {self.has_items_in_stock()}\")\n",
    "        print(\"---------------------\")\n",
    "\n",
    "# Example Usage\n",
    "if __name__ == \"__main__\":\n",
    "    # Create some products\n",
    "    laptop = Product(\"Laptop\", 1200.00, 5)\n",
    "    mouse = Product(\"Wireless Mouse\", 25.00, 20)\n",
    "    keyboard = Product(\"Mechanical Keyboard\", 75.00, 0) # Out of stock\n",
    "\n",
    "    # Create an order\n",
    "    order1 = Order(\"Alice Smith\", \"123 Main St, Anytown, USA 12345\")\n",
    "\n",
    "    # Add items to the order\n",
    "    order1.add_item(laptop, 1)\n",
    "    order1.add_item(mouse, 2)\n",
    "    order1.add_item(keyboard, 1) # This will fail due to out of stock\n",
    "\n",
    "    # Display order summary\n",
    "    order1.display_order_summary()\n",
    "\n",
    "    # Create another order with an invalid address\n",
    "    order2 = Order(\"Bob Johnson\", \"\")\n",
    "    order2.add_item(mouse, 1)\n",
    "    order2.display_order_summary()"
   ]
  }
 ],
 "metadata": {
  "kernelspec": {
   "display_name": "Python 3",
   "language": "python",
   "name": "python3"
  },
  "language_info": {
   "codemirror_mode": {
    "name": "ipython",
    "version": 3
   },
   "file_extension": ".py",
   "mimetype": "text/x-python",
   "name": "python",
   "nbconvert_exporter": "python",
   "pygments_lexer": "ipython3",
   "version": "3.13.5"
  }
 },
 "nbformat": 4,
 "nbformat_minor": 5
}

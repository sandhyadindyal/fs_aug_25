{
 "cells": [
  {
   "cell_type": "code",
   "execution_count": 2,
   "id": "37fc8e71",
   "metadata": {},
   "outputs": [
    {
     "name": "stdout",
     "output_type": "stream",
     "text": [
      "----- Person Information -----\n",
      "NIC: N2301458527\n",
      "Name: Krishna Appadoo\n",
      "Address: Beau Bassin\n",
      "Salary: Rs 55000.00\n",
      "\n",
      "Debug representation:\n",
      "Person(nic='N2301458527', name='Krishna Appadoo', address='Beau Bassin', salary=55000)\n",
      "\n",
      "Eligible for benefits: True\n"
     ]
    }
   ],
   "source": [
    "class Person:\n",
    "    def __init__(self, nic, name, address, salary):\n",
    "        self.nic = nic\n",
    "        self.name = name\n",
    "        self.address = address\n",
    "        self.salary = salary\n",
    "\n",
    "    def info(self):\n",
    "        \"\"\"Display person details.\"\"\"\n",
    "        print(\"----- Person Information -----\")\n",
    "        print(f\"NIC: {self.nic}\")\n",
    "        print(f\"Name: {self.name}\")\n",
    "        print(f\"Address: {self.address}\")\n",
    "        print(f\"Salary: Rs {self.salary:.2f}\")\n",
    "\n",
    "    def __repr__(self):\n",
    "        \"\"\"Return a string representation of the object.\"\"\"\n",
    "        return (f\"Person(nic='{self.nic}', name='{self.name}', \"\n",
    "                f\"address='{self.address}', salary={self.salary})\")\n",
    "\n",
    "    def check_benefits(self):\n",
    "        \"\"\"Return True if the person is eligible for benefits.\"\"\"\n",
    "        return self.salary > 50000\n",
    "\n",
    "# Example usage:\n",
    "if __name__ == \"__main__\":\n",
    "    p1 = Person(\"N2301458527\", \"Krishna Appadoo\", \"Beau Bassin\", 55000)\n",
    "\n",
    "    p1.info()\n",
    "    print(\"\\nDebug representation:\")\n",
    "    print(repr(p1))\n",
    "\n",
    "    print(\"\\nEligible for benefits:\", p1.check_benefits())"
   ]
  }
 ],
 "metadata": {
  "kernelspec": {
   "display_name": "Python 3",
   "language": "python",
   "name": "python3"
  },
  "language_info": {
   "codemirror_mode": {
    "name": "ipython",
    "version": 3
   },
   "file_extension": ".py",
   "mimetype": "text/x-python",
   "name": "python",
   "nbconvert_exporter": "python",
   "pygments_lexer": "ipython3",
   "version": "3.13.5"
  }
 },
 "nbformat": 4,
 "nbformat_minor": 5
}
